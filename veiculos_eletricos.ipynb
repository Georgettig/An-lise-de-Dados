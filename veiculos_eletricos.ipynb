{
 "cells": [
  {
   "cell_type": "markdown",
   "id": "f6c3c017",
   "metadata": {},
   "source": [
    "# Análise de uma Base de Dados de Veículos Elétricos"
   ]
  },
  {
   "cell_type": "markdown",
   "id": "29b3b453",
   "metadata": {},
   "source": [
    "**Importando bibliotecas**"
   ]
  },
  {
   "cell_type": "code",
   "execution_count": 1,
   "id": "6f508368",
   "metadata": {},
   "outputs": [],
   "source": [
    "import pandas as pd\n",
    "import numpy as np\n",
    "import matplotlib.pyplot as plt\n",
    "import seaborn as sns"
   ]
  },
  {
   "cell_type": "markdown",
   "id": "df0fa8e8",
   "metadata": {},
   "source": [
    "**Importando base de dados**"
   ]
  },
  {
   "cell_type": "code",
   "execution_count": 2,
   "id": "4a5a38c3",
   "metadata": {},
   "outputs": [
    {
     "data": {
      "text/html": [
       "<div>\n",
       "<style scoped>\n",
       "    .dataframe tbody tr th:only-of-type {\n",
       "        vertical-align: middle;\n",
       "    }\n",
       "\n",
       "    .dataframe tbody tr th {\n",
       "        vertical-align: top;\n",
       "    }\n",
       "\n",
       "    .dataframe thead th {\n",
       "        text-align: right;\n",
       "    }\n",
       "</style>\n",
       "<table border=\"1\" class=\"dataframe\">\n",
       "  <thead>\n",
       "    <tr style=\"text-align: right;\">\n",
       "      <th></th>\n",
       "      <th>VIN (1-10)</th>\n",
       "      <th>County</th>\n",
       "      <th>City</th>\n",
       "      <th>State</th>\n",
       "      <th>Postal Code</th>\n",
       "      <th>Model Year</th>\n",
       "      <th>Make</th>\n",
       "      <th>Model</th>\n",
       "      <th>Electric Vehicle Type</th>\n",
       "      <th>Clean Alternative Fuel Vehicle (CAFV) Eligibility</th>\n",
       "      <th>Electric Range</th>\n",
       "      <th>Base MSRP</th>\n",
       "      <th>Legislative District</th>\n",
       "      <th>DOL Vehicle ID</th>\n",
       "      <th>Vehicle Location</th>\n",
       "      <th>Electric Utility</th>\n",
       "      <th>2020 Census Tract</th>\n",
       "    </tr>\n",
       "  </thead>\n",
       "  <tbody>\n",
       "    <tr>\n",
       "      <th>0</th>\n",
       "      <td>JTMAB3FV3P</td>\n",
       "      <td>Kitsap</td>\n",
       "      <td>Seabeck</td>\n",
       "      <td>WA</td>\n",
       "      <td>98380.0</td>\n",
       "      <td>2023</td>\n",
       "      <td>TOYOTA</td>\n",
       "      <td>RAV4 PRIME</td>\n",
       "      <td>Plug-in Hybrid Electric Vehicle (PHEV)</td>\n",
       "      <td>Clean Alternative Fuel Vehicle Eligible</td>\n",
       "      <td>42.0</td>\n",
       "      <td>0.0</td>\n",
       "      <td>35.0</td>\n",
       "      <td>240684006</td>\n",
       "      <td>POINT (-122.8728334 47.5798304)</td>\n",
       "      <td>PUGET SOUND ENERGY INC</td>\n",
       "      <td>5.303509e+10</td>\n",
       "    </tr>\n",
       "    <tr>\n",
       "      <th>1</th>\n",
       "      <td>1N4AZ1CP6J</td>\n",
       "      <td>Kitsap</td>\n",
       "      <td>Bremerton</td>\n",
       "      <td>WA</td>\n",
       "      <td>98312.0</td>\n",
       "      <td>2018</td>\n",
       "      <td>NISSAN</td>\n",
       "      <td>LEAF</td>\n",
       "      <td>Battery Electric Vehicle (BEV)</td>\n",
       "      <td>Clean Alternative Fuel Vehicle Eligible</td>\n",
       "      <td>151.0</td>\n",
       "      <td>0.0</td>\n",
       "      <td>35.0</td>\n",
       "      <td>474183811</td>\n",
       "      <td>POINT (-122.6961203 47.5759584)</td>\n",
       "      <td>PUGET SOUND ENERGY INC</td>\n",
       "      <td>5.303508e+10</td>\n",
       "    </tr>\n",
       "    <tr>\n",
       "      <th>2</th>\n",
       "      <td>5YJ3E1EA4L</td>\n",
       "      <td>King</td>\n",
       "      <td>Seattle</td>\n",
       "      <td>WA</td>\n",
       "      <td>98101.0</td>\n",
       "      <td>2020</td>\n",
       "      <td>TESLA</td>\n",
       "      <td>MODEL 3</td>\n",
       "      <td>Battery Electric Vehicle (BEV)</td>\n",
       "      <td>Clean Alternative Fuel Vehicle Eligible</td>\n",
       "      <td>266.0</td>\n",
       "      <td>0.0</td>\n",
       "      <td>43.0</td>\n",
       "      <td>113120017</td>\n",
       "      <td>POINT (-122.3340795 47.6099315)</td>\n",
       "      <td>CITY OF SEATTLE - (WA)|CITY OF TACOMA - (WA)</td>\n",
       "      <td>5.303301e+10</td>\n",
       "    </tr>\n",
       "    <tr>\n",
       "      <th>3</th>\n",
       "      <td>1N4AZ0CP8E</td>\n",
       "      <td>King</td>\n",
       "      <td>Seattle</td>\n",
       "      <td>WA</td>\n",
       "      <td>98125.0</td>\n",
       "      <td>2014</td>\n",
       "      <td>NISSAN</td>\n",
       "      <td>LEAF</td>\n",
       "      <td>Battery Electric Vehicle (BEV)</td>\n",
       "      <td>Clean Alternative Fuel Vehicle Eligible</td>\n",
       "      <td>84.0</td>\n",
       "      <td>0.0</td>\n",
       "      <td>46.0</td>\n",
       "      <td>108188713</td>\n",
       "      <td>POINT (-122.304356 47.715668)</td>\n",
       "      <td>CITY OF SEATTLE - (WA)|CITY OF TACOMA - (WA)</td>\n",
       "      <td>5.303300e+10</td>\n",
       "    </tr>\n",
       "    <tr>\n",
       "      <th>4</th>\n",
       "      <td>1G1FX6S00H</td>\n",
       "      <td>Thurston</td>\n",
       "      <td>Yelm</td>\n",
       "      <td>WA</td>\n",
       "      <td>98597.0</td>\n",
       "      <td>2017</td>\n",
       "      <td>CHEVROLET</td>\n",
       "      <td>BOLT EV</td>\n",
       "      <td>Battery Electric Vehicle (BEV)</td>\n",
       "      <td>Clean Alternative Fuel Vehicle Eligible</td>\n",
       "      <td>238.0</td>\n",
       "      <td>0.0</td>\n",
       "      <td>20.0</td>\n",
       "      <td>176448940</td>\n",
       "      <td>POINT (-122.5715761 46.9095798)</td>\n",
       "      <td>PUGET SOUND ENERGY INC</td>\n",
       "      <td>5.306701e+10</td>\n",
       "    </tr>\n",
       "  </tbody>\n",
       "</table>\n",
       "</div>"
      ],
      "text/plain": [
       "   VIN (1-10)    County       City State  Postal Code  Model Year       Make  \\\n",
       "0  JTMAB3FV3P    Kitsap    Seabeck    WA      98380.0        2023     TOYOTA   \n",
       "1  1N4AZ1CP6J    Kitsap  Bremerton    WA      98312.0        2018     NISSAN   \n",
       "2  5YJ3E1EA4L      King    Seattle    WA      98101.0        2020      TESLA   \n",
       "3  1N4AZ0CP8E      King    Seattle    WA      98125.0        2014     NISSAN   \n",
       "4  1G1FX6S00H  Thurston       Yelm    WA      98597.0        2017  CHEVROLET   \n",
       "\n",
       "        Model                   Electric Vehicle Type  \\\n",
       "0  RAV4 PRIME  Plug-in Hybrid Electric Vehicle (PHEV)   \n",
       "1        LEAF          Battery Electric Vehicle (BEV)   \n",
       "2     MODEL 3          Battery Electric Vehicle (BEV)   \n",
       "3        LEAF          Battery Electric Vehicle (BEV)   \n",
       "4     BOLT EV          Battery Electric Vehicle (BEV)   \n",
       "\n",
       "  Clean Alternative Fuel Vehicle (CAFV) Eligibility  Electric Range  \\\n",
       "0           Clean Alternative Fuel Vehicle Eligible            42.0   \n",
       "1           Clean Alternative Fuel Vehicle Eligible           151.0   \n",
       "2           Clean Alternative Fuel Vehicle Eligible           266.0   \n",
       "3           Clean Alternative Fuel Vehicle Eligible            84.0   \n",
       "4           Clean Alternative Fuel Vehicle Eligible           238.0   \n",
       "\n",
       "   Base MSRP  Legislative District  DOL Vehicle ID  \\\n",
       "0        0.0                  35.0       240684006   \n",
       "1        0.0                  35.0       474183811   \n",
       "2        0.0                  43.0       113120017   \n",
       "3        0.0                  46.0       108188713   \n",
       "4        0.0                  20.0       176448940   \n",
       "\n",
       "                  Vehicle Location  \\\n",
       "0  POINT (-122.8728334 47.5798304)   \n",
       "1  POINT (-122.6961203 47.5759584)   \n",
       "2  POINT (-122.3340795 47.6099315)   \n",
       "3    POINT (-122.304356 47.715668)   \n",
       "4  POINT (-122.5715761 46.9095798)   \n",
       "\n",
       "                               Electric Utility  2020 Census Tract  \n",
       "0                        PUGET SOUND ENERGY INC       5.303509e+10  \n",
       "1                        PUGET SOUND ENERGY INC       5.303508e+10  \n",
       "2  CITY OF SEATTLE - (WA)|CITY OF TACOMA - (WA)       5.303301e+10  \n",
       "3  CITY OF SEATTLE - (WA)|CITY OF TACOMA - (WA)       5.303300e+10  \n",
       "4                        PUGET SOUND ENERGY INC       5.306701e+10  "
      ]
     },
     "execution_count": 2,
     "metadata": {},
     "output_type": "execute_result"
    }
   ],
   "source": [
    "data = pd.read_csv(\"C:/Users/profg/Downloads/Electric_Vehicle_Population_Data.csv\")\n",
    "data.head()"
   ]
  },
  {
   "cell_type": "markdown",
   "id": "43d640dd",
   "metadata": {},
   "source": [
    "**Analisando informações gerais dos dados**"
   ]
  },
  {
   "cell_type": "code",
   "execution_count": 36,
   "id": "b4c08f73",
   "metadata": {},
   "outputs": [
    {
     "name": "stdout",
     "output_type": "stream",
     "text": [
      "<class 'pandas.core.frame.DataFrame'>\n",
      "RangeIndex: 205439 entries, 0 to 205438\n",
      "Data columns (total 17 columns):\n",
      " #   Column                                             Non-Null Count   Dtype  \n",
      "---  ------                                             --------------   -----  \n",
      " 0   VIN (1-10)                                         205439 non-null  object \n",
      " 1   County                                             205436 non-null  object \n",
      " 2   City                                               205436 non-null  object \n",
      " 3   State                                              205439 non-null  object \n",
      " 4   Postal Code                                        205436 non-null  float64\n",
      " 5   Model Year                                         205439 non-null  int64  \n",
      " 6   Make                                               205439 non-null  object \n",
      " 7   Model                                              205438 non-null  object \n",
      " 8   Electric Vehicle Type                              205439 non-null  object \n",
      " 9   Clean Alternative Fuel Vehicle (CAFV) Eligibility  205439 non-null  object \n",
      " 10  Electric Range                                     205431 non-null  float64\n",
      " 11  Base MSRP                                          205431 non-null  float64\n",
      " 12  Legislative District                               204997 non-null  float64\n",
      " 13  DOL Vehicle ID                                     205439 non-null  int64  \n",
      " 14  Vehicle Location                                   205431 non-null  object \n",
      " 15  Electric Utility                                   205436 non-null  object \n",
      " 16  2020 Census Tract                                  205436 non-null  float64\n",
      "dtypes: float64(5), int64(2), object(10)\n",
      "memory usage: 26.6+ MB\n"
     ]
    }
   ],
   "source": [
    "data.info()"
   ]
  },
  {
   "cell_type": "markdown",
   "id": "088a4488",
   "metadata": {},
   "source": [
    "**Selecionando colunas com dados categóricos**"
   ]
  },
  {
   "cell_type": "code",
   "execution_count": 3,
   "id": "fe18c8e0",
   "metadata": {},
   "outputs": [
    {
     "data": {
      "text/plain": [
       "Index(['VIN (1-10)', 'County', 'City', 'State', 'Make', 'Model',\n",
       "       'Electric Vehicle Type',\n",
       "       'Clean Alternative Fuel Vehicle (CAFV) Eligibility', 'Vehicle Location',\n",
       "       'Electric Utility'],\n",
       "      dtype='object')"
      ]
     },
     "execution_count": 3,
     "metadata": {},
     "output_type": "execute_result"
    }
   ],
   "source": [
    "categoricos = data.columns[data.dtypes == 'object']\n",
    "categoricos"
   ]
  },
  {
   "cell_type": "markdown",
   "id": "57f51285",
   "metadata": {},
   "source": [
    "**Selecionando colunas com dados numéricos**"
   ]
  },
  {
   "cell_type": "code",
   "execution_count": 4,
   "id": "778ee051",
   "metadata": {},
   "outputs": [
    {
     "data": {
      "text/plain": [
       "Index(['Postal Code', 'Model Year', 'Electric Range', 'Base MSRP',\n",
       "       'Legislative District', 'DOL Vehicle ID', '2020 Census Tract'],\n",
       "      dtype='object')"
      ]
     },
     "execution_count": 4,
     "metadata": {},
     "output_type": "execute_result"
    }
   ],
   "source": [
    "numericos = data.columns[data.dtypes != 'object']\n",
    "numericos"
   ]
  },
  {
   "cell_type": "markdown",
   "id": "d7e3358b",
   "metadata": {},
   "source": [
    "**Excluindo linhas que apresentam dados faltantes**"
   ]
  },
  {
   "cell_type": "code",
   "execution_count": 5,
   "id": "28a82499",
   "metadata": {},
   "outputs": [],
   "source": [
    "data.dropna(inplace = True)"
   ]
  },
  {
   "cell_type": "code",
   "execution_count": 6,
   "id": "44f9a732",
   "metadata": {},
   "outputs": [
    {
     "data": {
      "text/plain": [
       "VIN (1-10)                                           0\n",
       "County                                               0\n",
       "City                                                 0\n",
       "State                                                0\n",
       "Postal Code                                          0\n",
       "Model Year                                           0\n",
       "Make                                                 0\n",
       "Model                                                0\n",
       "Electric Vehicle Type                                0\n",
       "Clean Alternative Fuel Vehicle (CAFV) Eligibility    0\n",
       "Electric Range                                       0\n",
       "Base MSRP                                            0\n",
       "Legislative District                                 0\n",
       "DOL Vehicle ID                                       0\n",
       "Vehicle Location                                     0\n",
       "Electric Utility                                     0\n",
       "2020 Census Tract                                    0\n",
       "dtype: int64"
      ]
     },
     "execution_count": 6,
     "metadata": {},
     "output_type": "execute_result"
    }
   ],
   "source": [
    "data.isnull().sum()"
   ]
  },
  {
   "cell_type": "markdown",
   "id": "8ad2ada7",
   "metadata": {},
   "source": [
    "**Criando gráfico dos 20 modelos mais fabricados**"
   ]
  },
  {
   "cell_type": "code",
   "execution_count": 54,
   "id": "02f5baac",
   "metadata": {},
   "outputs": [],
   "source": [
    "modelos = list(data['Model'].value_counts().head(20).index.values)\n",
    "quantidade = list(data['Model'].value_counts().head(20).values)"
   ]
  },
  {
   "cell_type": "code",
   "execution_count": 70,
   "id": "a427be2b",
   "metadata": {},
   "outputs": [
    {
     "data": {
      "image/png": "[encoded data removed]",
      "text/plain": [
       "<Figure size 864x432 with 1 Axes>"
      ]
     },
     "metadata": {
      "needs_background": "light"
     },
     "output_type": "display_data"
    }
   ],
   "source": [
    "plt.figure(figsize=(12,6))\n",
    "sns.barplot(x = modelos, y = quantidade, edgecolor='k', palette='winter')\n",
    "plt.xticks(rotation=45)\n",
    "plt.title('Modelos Fabricados')\n",
    "plt.xlabel('Modelos')\n",
    "plt.ylabel('Quantidade')\n",
    "plt.show()"
   ]
  },
  {
   "cell_type": "markdown",
   "id": "3fb02051",
   "metadata": {},
   "source": [
    "**Criando gráfico das 10 cidades com mais veículos produzidos**"
   ]
  },
  {
   "cell_type": "code",
   "execution_count": 162,
   "id": "a2c7b8d9",
   "metadata": {},
   "outputs": [],
   "source": [
    "cidades = list(data['City'].value_counts().head(10).index.values)\n",
    "qtd = list(data['City'].value_counts().head(10).values)"
   ]
  },
  {
   "cell_type": "code",
   "execution_count": 166,
   "id": "be4503e7",
   "metadata": {},
   "outputs": [
    {
     "data": {
      "image/png": "[encoded data removed]",
      "text/plain": [
       "<Figure size 720x432 with 1 Axes>"
      ]
     },
     "metadata": {
      "needs_background": "light"
     },
     "output_type": "display_data"
    }
   ],
   "source": [
    "plt.figure(figsize=(10,6))\n",
    "sns.barplot(x=cidades, y=qtd, edgecolor='k', palette='winter')\n",
    "plt.show()"
   ]
  },
  {
   "cell_type": "markdown",
   "id": "6e8f45d8",
   "metadata": {},
   "source": [
    "**Em Seattle, quais os modelos mais produzidos?**"
   ]
  },
  {
   "cell_type": "code",
   "execution_count": 130,
   "id": "1d5fcc56",
   "metadata": {},
   "outputs": [],
   "source": [
    "seattle = data[data['City'] == 'Seattle']"
   ]
  },
  {
   "cell_type": "code",
   "execution_count": 142,
   "id": "f25ef7ea",
   "metadata": {},
   "outputs": [],
   "source": [
    "models_seattle = seattle['Model'].value_counts()"
   ]
  },
  {
   "cell_type": "code",
   "execution_count": 144,
   "id": "51f6b2c9",
   "metadata": {},
   "outputs": [
    {
     "data": {
      "image/png": "[encoded data removed]",
      "text/plain": [
       "<Figure size 720x432 with 1 Axes>"
      ]
     },
     "metadata": {
      "needs_background": "light"
     },
     "output_type": "display_data"
    }
   ],
   "source": [
    "models_seattle.plot(figsize=(10,6));"
   ]
  },
  {
   "cell_type": "markdown",
   "id": "aeed4b36",
   "metadata": {},
   "source": [
    "**Fabricantes com maior número de carros produzidos**"
   ]
  },
  {
   "cell_type": "code",
   "execution_count": 96,
   "id": "70870a74",
   "metadata": {},
   "outputs": [],
   "source": [
    "marcas = list(data['Make'].value_counts().head(15).index.values)\n",
    "qtd2 = list(data['Make'].value_counts().head(15).values)"
   ]
  },
  {
   "cell_type": "code",
   "execution_count": 108,
   "id": "074f8e8b",
   "metadata": {},
   "outputs": [
    {
     "data": {
      "image/png": "[encoded data removed]",
      "text/plain": [
       "<Figure size 864x432 with 1 Axes>"
      ]
     },
     "metadata": {
      "needs_background": "light"
     },
     "output_type": "display_data"
    }
   ],
   "source": [
    "plt.figure(figsize=(12,6))\n",
    "sns.barplot(x = marcas, y = qtd2, edgecolor='k', palette='summer')\n",
    "plt.xticks(rotation=45)\n",
    "plt.xlabel('Marcas')\n",
    "plt.ylabel('Quantidade')\n",
    "plt.show()"
   ]
  },
  {
   "cell_type": "markdown",
   "id": "5db50566",
   "metadata": {},
   "source": [
    "**Qual a quantidade de modelos produzidos pela Tesla?**"
   ]
  },
  {
   "cell_type": "code",
   "execution_count": 122,
   "id": "217fc6f1",
   "metadata": {},
   "outputs": [],
   "source": [
    "tesla = data[data['Make'] == 'Tesla']"
   ]
  },
  {
   "cell_type": "code",
   "execution_count": 123,
   "id": "6a9c21b5",
   "metadata": {},
   "outputs": [
    {
     "data": {
      "text/plain": [
       "RAV4 PRIME       3042\n",
       "PRIUS PRIME      3026\n",
       "PRIUS PLUG-IN     942\n",
       "BZ4X              858\n",
       "RAV4               52\n",
       "Name: Model, dtype: int64"
      ]
     },
     "execution_count": 123,
     "metadata": {},
     "output_type": "execute_result"
    }
   ],
   "source": [
    "model_tesla = toyota['Model'].value_counts()\n",
    "model_tesla"
   ]
  },
  {
   "cell_type": "code",
   "execution_count": 128,
   "id": "e56cf740",
   "metadata": {},
   "outputs": [
    {
     "data": {
      "image/png": "[encoded data removed]",
      "text/plain": [
       "<Figure size 864x432 with 1 Axes>"
      ]
     },
     "metadata": {},
     "output_type": "display_data"
    }
   ],
   "source": [
    "model_tesla.plot(kind='pie', figsize=(12,6), autopct='%1.2f%%', subplots=True, colormap='turbo', \n",
    "                    explode=[0.01, 0.01, 0.01, 0.01, 0.01])\n",
    "plt.legend(loc='upper left')\n",
    "plt.show()"
   ]
  }
 ],
 "metadata": {
  "kernelspec": {
   "display_name": "Python 3 (ipykernel)",
   "language": "python",
   "name": "python3"
  },
  "language_info": {
   "codemirror_mode": {
    "name": "ipython",
    "version": 3
   },
   "file_extension": ".py",
   "mimetype": "text/x-python",
   "name": "python",
   "nbconvert_exporter": "python",
   "pygments_lexer": "ipython3",
   "version": "3.9.12"
  }
 },
 "nbformat": 4,
 "nbformat_minor": 5
}
