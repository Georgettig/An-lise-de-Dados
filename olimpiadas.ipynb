{
 "cells": [
  {
   "cell_type": "code",
   "execution_count": 1,
   "id": "8b6dee41",
   "metadata": {},
   "outputs": [],
   "source": [
    "import pandas as pd\n",
    "import numpy as np\n",
    "import seaborn as sns\n",
    "import matplotlib.pyplot as plt"
   ]
  },
  {
   "cell_type": "code",
   "execution_count": 510,
   "id": "71837ce5",
   "metadata": {},
   "outputs": [
    {
     "data": {
      "text/html": [
       "<div>\n",
       "<style scoped>\n",
       "    .dataframe tbody tr th:only-of-type {\n",
       "        vertical-align: middle;\n",
       "    }\n",
       "\n",
       "    .dataframe tbody tr th {\n",
       "        vertical-align: top;\n",
       "    }\n",
       "\n",
       "    .dataframe thead th {\n",
       "        text-align: right;\n",
       "    }\n",
       "</style>\n",
       "<table border=\"1\" class=\"dataframe\">\n",
       "  <thead>\n",
       "    <tr style=\"text-align: right;\">\n",
       "      <th></th>\n",
       "      <th>ano</th>\n",
       "      <th>edicao</th>\n",
       "      <th>cidade_sede</th>\n",
       "      <th>pais</th>\n",
       "      <th>delegacao</th>\n",
       "      <th>equipe</th>\n",
       "      <th>id_atleta</th>\n",
       "      <th>nome_atleta</th>\n",
       "      <th>sexo</th>\n",
       "      <th>idade</th>\n",
       "      <th>altura</th>\n",
       "      <th>peso</th>\n",
       "      <th>esporte</th>\n",
       "      <th>evento</th>\n",
       "      <th>medalha</th>\n",
       "    </tr>\n",
       "  </thead>\n",
       "  <tbody>\n",
       "    <tr>\n",
       "      <th>0</th>\n",
       "      <td>1896</td>\n",
       "      <td>Summer</td>\n",
       "      <td>Athina</td>\n",
       "      <td>Australia</td>\n",
       "      <td>AUS</td>\n",
       "      <td>Australia</td>\n",
       "      <td>35698</td>\n",
       "      <td>Edwin Harold \"Teddy\" Flack</td>\n",
       "      <td>M</td>\n",
       "      <td>22.0</td>\n",
       "      <td>NaN</td>\n",
       "      <td>NaN</td>\n",
       "      <td>Athletics</td>\n",
       "      <td>Athletics Men's 1,500 metres</td>\n",
       "      <td>Gold</td>\n",
       "    </tr>\n",
       "    <tr>\n",
       "      <th>1</th>\n",
       "      <td>1896</td>\n",
       "      <td>Summer</td>\n",
       "      <td>Athina</td>\n",
       "      <td>Australia</td>\n",
       "      <td>AUS</td>\n",
       "      <td>Australia</td>\n",
       "      <td>35698</td>\n",
       "      <td>Edwin Harold \"Teddy\" Flack</td>\n",
       "      <td>M</td>\n",
       "      <td>22.0</td>\n",
       "      <td>NaN</td>\n",
       "      <td>NaN</td>\n",
       "      <td>Athletics</td>\n",
       "      <td>Athletics Men's 800 metres</td>\n",
       "      <td>Gold</td>\n",
       "    </tr>\n",
       "    <tr>\n",
       "      <th>2</th>\n",
       "      <td>1896</td>\n",
       "      <td>Summer</td>\n",
       "      <td>Athina</td>\n",
       "      <td>Australia</td>\n",
       "      <td>AUS</td>\n",
       "      <td>Australia</td>\n",
       "      <td>35698</td>\n",
       "      <td>Edwin Harold \"Teddy\" Flack</td>\n",
       "      <td>M</td>\n",
       "      <td>22.0</td>\n",
       "      <td>NaN</td>\n",
       "      <td>NaN</td>\n",
       "      <td>Athletics</td>\n",
       "      <td>Athletics Men's Marathon</td>\n",
       "      <td>NaN</td>\n",
       "    </tr>\n",
       "    <tr>\n",
       "      <th>3</th>\n",
       "      <td>1896</td>\n",
       "      <td>Summer</td>\n",
       "      <td>Athina</td>\n",
       "      <td>Australia</td>\n",
       "      <td>AUS</td>\n",
       "      <td>Australia/Great Britain</td>\n",
       "      <td>35698</td>\n",
       "      <td>Edwin Harold \"Teddy\" Flack</td>\n",
       "      <td>M</td>\n",
       "      <td>22.0</td>\n",
       "      <td>NaN</td>\n",
       "      <td>NaN</td>\n",
       "      <td>Tennis</td>\n",
       "      <td>Tennis Men's Doubles</td>\n",
       "      <td>Bronze</td>\n",
       "    </tr>\n",
       "    <tr>\n",
       "      <th>4</th>\n",
       "      <td>1896</td>\n",
       "      <td>Summer</td>\n",
       "      <td>Athina</td>\n",
       "      <td>Australia</td>\n",
       "      <td>AUS</td>\n",
       "      <td>Australia</td>\n",
       "      <td>35698</td>\n",
       "      <td>Edwin Harold \"Teddy\" Flack</td>\n",
       "      <td>M</td>\n",
       "      <td>22.0</td>\n",
       "      <td>NaN</td>\n",
       "      <td>NaN</td>\n",
       "      <td>Tennis</td>\n",
       "      <td>Tennis Men's Singles</td>\n",
       "      <td>NaN</td>\n",
       "    </tr>\n",
       "    <tr>\n",
       "      <th>...</th>\n",
       "      <td>...</td>\n",
       "      <td>...</td>\n",
       "      <td>...</td>\n",
       "      <td>...</td>\n",
       "      <td>...</td>\n",
       "      <td>...</td>\n",
       "      <td>...</td>\n",
       "      <td>...</td>\n",
       "      <td>...</td>\n",
       "      <td>...</td>\n",
       "      <td>...</td>\n",
       "      <td>...</td>\n",
       "      <td>...</td>\n",
       "      <td>...</td>\n",
       "      <td>...</td>\n",
       "    </tr>\n",
       "    <tr>\n",
       "      <th>269713</th>\n",
       "      <td>2016</td>\n",
       "      <td>Summer</td>\n",
       "      <td>Rio de Janeiro</td>\n",
       "      <td>NaN</td>\n",
       "      <td>SGP</td>\n",
       "      <td>Singapore</td>\n",
       "      <td>133071</td>\n",
       "      <td>Pei Lin \"Audrey\" Yong</td>\n",
       "      <td>F</td>\n",
       "      <td>21.0</td>\n",
       "      <td>156.0</td>\n",
       "      <td>50.0</td>\n",
       "      <td>Sailing</td>\n",
       "      <td>Sailing Women's Windsurfer</td>\n",
       "      <td>NaN</td>\n",
       "    </tr>\n",
       "    <tr>\n",
       "      <th>269714</th>\n",
       "      <td>2016</td>\n",
       "      <td>Summer</td>\n",
       "      <td>Rio de Janeiro</td>\n",
       "      <td>NaN</td>\n",
       "      <td>SGP</td>\n",
       "      <td>Singapore</td>\n",
       "      <td>133346</td>\n",
       "      <td>Yu Mengyu</td>\n",
       "      <td>F</td>\n",
       "      <td>26.0</td>\n",
       "      <td>166.0</td>\n",
       "      <td>50.0</td>\n",
       "      <td>Table Tennis</td>\n",
       "      <td>Table Tennis Women's Singles</td>\n",
       "      <td>NaN</td>\n",
       "    </tr>\n",
       "    <tr>\n",
       "      <th>269715</th>\n",
       "      <td>2016</td>\n",
       "      <td>Summer</td>\n",
       "      <td>Rio de Janeiro</td>\n",
       "      <td>NaN</td>\n",
       "      <td>SGP</td>\n",
       "      <td>Singapore</td>\n",
       "      <td>133346</td>\n",
       "      <td>Yu Mengyu</td>\n",
       "      <td>F</td>\n",
       "      <td>26.0</td>\n",
       "      <td>166.0</td>\n",
       "      <td>50.0</td>\n",
       "      <td>Table Tennis</td>\n",
       "      <td>Table Tennis Women's Team</td>\n",
       "      <td>NaN</td>\n",
       "    </tr>\n",
       "    <tr>\n",
       "      <th>269716</th>\n",
       "      <td>2016</td>\n",
       "      <td>Summer</td>\n",
       "      <td>Rio de Janeiro</td>\n",
       "      <td>NaN</td>\n",
       "      <td>SGP</td>\n",
       "      <td>Singapore</td>\n",
       "      <td>134826</td>\n",
       "      <td>Zhou Yihan</td>\n",
       "      <td>F</td>\n",
       "      <td>22.0</td>\n",
       "      <td>168.0</td>\n",
       "      <td>54.0</td>\n",
       "      <td>Table Tennis</td>\n",
       "      <td>Table Tennis Women's Team</td>\n",
       "      <td>NaN</td>\n",
       "    </tr>\n",
       "    <tr>\n",
       "      <th>269717</th>\n",
       "      <td>2016</td>\n",
       "      <td>Summer</td>\n",
       "      <td>Rio de Janeiro</td>\n",
       "      <td>NaN</td>\n",
       "      <td>TUV</td>\n",
       "      <td>Tuvalu</td>\n",
       "      <td>120422</td>\n",
       "      <td>Etimoni Timuani</td>\n",
       "      <td>M</td>\n",
       "      <td>24.0</td>\n",
       "      <td>184.0</td>\n",
       "      <td>72.0</td>\n",
       "      <td>Athletics</td>\n",
       "      <td>Athletics Men's 100 metres</td>\n",
       "      <td>NaN</td>\n",
       "    </tr>\n",
       "  </tbody>\n",
       "</table>\n",
       "<p>269718 rows × 15 columns</p>\n",
       "</div>"
      ],
      "text/plain": [
       "         ano  edicao     cidade_sede       pais delegacao  \\\n",
       "0       1896  Summer          Athina  Australia       AUS   \n",
       "1       1896  Summer          Athina  Australia       AUS   \n",
       "2       1896  Summer          Athina  Australia       AUS   \n",
       "3       1896  Summer          Athina  Australia       AUS   \n",
       "4       1896  Summer          Athina  Australia       AUS   \n",
       "...      ...     ...             ...        ...       ...   \n",
       "269713  2016  Summer  Rio de Janeiro        NaN       SGP   \n",
       "269714  2016  Summer  Rio de Janeiro        NaN       SGP   \n",
       "269715  2016  Summer  Rio de Janeiro        NaN       SGP   \n",
       "269716  2016  Summer  Rio de Janeiro        NaN       SGP   \n",
       "269717  2016  Summer  Rio de Janeiro        NaN       TUV   \n",
       "\n",
       "                         equipe  id_atleta                 nome_atleta sexo  \\\n",
       "0                     Australia      35698  Edwin Harold \"Teddy\" Flack    M   \n",
       "1                     Australia      35698  Edwin Harold \"Teddy\" Flack    M   \n",
       "2                     Australia      35698  Edwin Harold \"Teddy\" Flack    M   \n",
       "3       Australia/Great Britain      35698  Edwin Harold \"Teddy\" Flack    M   \n",
       "4                     Australia      35698  Edwin Harold \"Teddy\" Flack    M   \n",
       "...                         ...        ...                         ...  ...   \n",
       "269713                Singapore     133071       Pei Lin \"Audrey\" Yong    F   \n",
       "269714                Singapore     133346                   Yu Mengyu    F   \n",
       "269715                Singapore     133346                   Yu Mengyu    F   \n",
       "269716                Singapore     134826                  Zhou Yihan    F   \n",
       "269717                   Tuvalu     120422             Etimoni Timuani    M   \n",
       "\n",
       "        idade  altura  peso       esporte                        evento  \\\n",
       "0        22.0     NaN   NaN     Athletics  Athletics Men's 1,500 metres   \n",
       "1        22.0     NaN   NaN     Athletics    Athletics Men's 800 metres   \n",
       "2        22.0     NaN   NaN     Athletics      Athletics Men's Marathon   \n",
       "3        22.0     NaN   NaN        Tennis          Tennis Men's Doubles   \n",
       "4        22.0     NaN   NaN        Tennis          Tennis Men's Singles   \n",
       "...       ...     ...   ...           ...                           ...   \n",
       "269713   21.0   156.0  50.0       Sailing    Sailing Women's Windsurfer   \n",
       "269714   26.0   166.0  50.0  Table Tennis  Table Tennis Women's Singles   \n",
       "269715   26.0   166.0  50.0  Table Tennis     Table Tennis Women's Team   \n",
       "269716   22.0   168.0  54.0  Table Tennis     Table Tennis Women's Team   \n",
       "269717   24.0   184.0  72.0     Athletics    Athletics Men's 100 metres   \n",
       "\n",
       "       medalha  \n",
       "0         Gold  \n",
       "1         Gold  \n",
       "2          NaN  \n",
       "3       Bronze  \n",
       "4          NaN  \n",
       "...        ...  \n",
       "269713     NaN  \n",
       "269714     NaN  \n",
       "269715     NaN  \n",
       "269716     NaN  \n",
       "269717     NaN  \n",
       "\n",
       "[269718 rows x 15 columns]"
      ]
     },
     "execution_count": 510,
     "metadata": {},
     "output_type": "execute_result"
    }
   ],
   "source": [
    "dados = pd.read_csv('olimpiadas.csv')\n",
    "dados"
   ]
  },
  {
   "cell_type": "markdown",
   "id": "b1fb59ca",
   "metadata": {},
   "source": [
    "## Tratamento da Base de Dados"
   ]
  },
  {
   "cell_type": "markdown",
   "id": "5234b417",
   "metadata": {},
   "source": [
    "**Trabalhando com dados nulos**"
   ]
  },
  {
   "cell_type": "code",
   "execution_count": 511,
   "id": "1b306975",
   "metadata": {},
   "outputs": [],
   "source": [
    "dados = dados.drop(dados.loc[(dados['pais'].isnull()) & (dados['medalha'].isnull())].index)"
   ]
  },
  {
   "cell_type": "code",
   "execution_count": 512,
   "id": "8fb88b64",
   "metadata": {},
   "outputs": [],
   "source": [
    "dados = dados.drop(dados.loc[(dados['idade'].isnull()) & (dados['medalha'].isnull())].index)"
   ]
  },
  {
   "cell_type": "code",
   "execution_count": 513,
   "id": "906bda4e",
   "metadata": {},
   "outputs": [],
   "source": [
    "dados = dados.drop(dados.loc[(dados['altura'].isnull()) & (dados['medalha'].isnull())].index)"
   ]
  },
  {
   "cell_type": "code",
   "execution_count": 514,
   "id": "61da8811",
   "metadata": {},
   "outputs": [],
   "source": [
    "dados = dados.drop(dados.loc[(dados['peso'].isnull()) & (dados['medalha'].isnull())].index)"
   ]
  },
  {
   "cell_type": "code",
   "execution_count": 515,
   "id": "36f94349",
   "metadata": {},
   "outputs": [],
   "source": [
    "dados = dados.drop(dados.loc[(dados['medalha'].isnull())].index)"
   ]
  },
  {
   "cell_type": "markdown",
   "id": "e2f04003",
   "metadata": {},
   "source": [
    "**Agrupando dados de países nulos**"
   ]
  },
  {
   "cell_type": "code",
   "execution_count": 516,
   "id": "a0a0a1b9",
   "metadata": {},
   "outputs": [
    {
     "data": {
      "text/plain": [
       "Singapore    9\n",
       "Name: equipe, dtype: int64"
      ]
     },
     "execution_count": 516,
     "metadata": {},
     "output_type": "execute_result"
    }
   ],
   "source": [
    "dados[dados['pais'].isnull()].equipe.value_counts()"
   ]
  },
  {
   "cell_type": "code",
   "execution_count": 517,
   "id": "977000d5",
   "metadata": {},
   "outputs": [],
   "source": [
    "dados.loc[dados['pais'].isnull(), 'pais'] = 'Others'"
   ]
  },
  {
   "cell_type": "markdown",
   "id": "5d5fb83b",
   "metadata": {},
   "source": [
    "**Corrigindo dados nulos com suas médias**"
   ]
  },
  {
   "cell_type": "code",
   "execution_count": 518,
   "id": "2528c672",
   "metadata": {},
   "outputs": [],
   "source": [
    "media_idade = round(dados['idade'].mean())\n",
    "media_altura = round(dados['altura'].mean())\n",
    "media_peso = round(dados['peso'].mean())"
   ]
  },
  {
   "cell_type": "code",
   "execution_count": 519,
   "id": "216a96c4",
   "metadata": {},
   "outputs": [],
   "source": [
    "dados.loc[dados['idade'].isnull(), 'idade'] = media_idade\n",
    "dados.loc[dados['altura'].isnull(), 'altura'] = media_altura\n",
    "dados.loc[dados['peso'].isnull(), 'peso'] = media_peso"
   ]
  },
  {
   "cell_type": "code",
   "execution_count": 520,
   "id": "0e67aae7",
   "metadata": {},
   "outputs": [
    {
     "data": {
      "text/plain": [
       "ano            0\n",
       "edicao         0\n",
       "cidade_sede    0\n",
       "pais           0\n",
       "delegacao      0\n",
       "equipe         0\n",
       "id_atleta      0\n",
       "nome_atleta    0\n",
       "sexo           0\n",
       "idade          0\n",
       "altura         0\n",
       "peso           0\n",
       "esporte        0\n",
       "evento         0\n",
       "medalha        0\n",
       "dtype: int64"
      ]
     },
     "execution_count": 520,
     "metadata": {},
     "output_type": "execute_result"
    }
   ],
   "source": [
    "dados.isnull().sum()"
   ]
  },
  {
   "cell_type": "code",
   "execution_count": 521,
   "id": "d26193aa",
   "metadata": {},
   "outputs": [],
   "source": [
    "dados.reset_index(inplace=True)"
   ]
  },
  {
   "cell_type": "markdown",
   "id": "4f3f6981",
   "metadata": {},
   "source": [
    "## Análise dos Dados"
   ]
  },
  {
   "cell_type": "markdown",
   "id": "bd26a310",
   "metadata": {},
   "source": [
    "**Dos 10 países com mais medalhas, quantos tem mais medalhas de ouro?**"
   ]
  },
  {
   "cell_type": "code",
   "execution_count": 522,
   "id": "8d46e58b",
   "metadata": {},
   "outputs": [
    {
     "data": {
      "text/plain": [
       "['USA',\n",
       " 'Russia',\n",
       " 'Germany',\n",
       " 'UK',\n",
       " 'France',\n",
       " 'Italy',\n",
       " 'Sweden',\n",
       " 'Canada',\n",
       " 'Australia',\n",
       " 'Hungary']"
      ]
     },
     "execution_count": 522,
     "metadata": {},
     "output_type": "execute_result"
    }
   ],
   "source": [
    "top10 = list(dados[['pais','medalha']].pais.value_counts().head(10).index)\n",
    "top10"
   ]
  },
  {
   "cell_type": "code",
   "execution_count": 523,
   "id": "8c88df6d",
   "metadata": {},
   "outputs": [
    {
     "data": {
      "text/plain": [
       "[5637, 3947, 3756, 2067, 1767, 1637, 1536, 1352, 1349, 1135]"
      ]
     },
     "execution_count": 523,
     "metadata": {},
     "output_type": "execute_result"
    }
   ],
   "source": [
    "medalhas = list(dados[['pais','medalha']].pais.value_counts().head(10).values)\n",
    "medalhas"
   ]
  },
  {
   "cell_type": "code",
   "execution_count": 524,
   "id": "e0d5ade1",
   "metadata": {},
   "outputs": [
    {
     "name": "stdout",
     "output_type": "stream",
     "text": [
      "[2638, 1599, 1301, 677, 499, 575, 479, 463, 368, 432]\n"
     ]
    }
   ],
   "source": [
    "ouros = []\n",
    "for i in top10:\n",
    "    a = dados.loc[(dados.pais == i) & (dados.medalha == 'Gold')].pais.count()\n",
    "    ouros.append(a)\n",
    "print(ouros)"
   ]
  },
  {
   "cell_type": "code",
   "execution_count": 525,
   "id": "d6103c52",
   "metadata": {},
   "outputs": [
    {
     "data": {
      "image/png": "[encoded data removed]",
      "text/plain": [
       "<Figure size 720x432 with 1 Axes>"
      ]
     },
     "metadata": {
      "needs_background": "light"
     },
     "output_type": "display_data"
    }
   ],
   "source": [
    "plt.figure(figsize=(10,6))\n",
    "plt.plot(top10, medalhas, label='Medalhas Totais',color='blue', marker='o')\n",
    "plt.plot(top10, ouros, label='Medalhas de Ouro', color='red', marker='s')\n",
    "plt.title('Top 10 países com mais medalhas', size=12)\n",
    "plt.xlabel('Países')\n",
    "plt.ylabel('Nº de Medalhas')\n",
    "plt.legend()\n",
    "plt.show()"
   ]
  },
  {
   "cell_type": "code",
   "execution_count": 526,
   "id": "abb65eb1",
   "metadata": {},
   "outputs": [],
   "source": [
    "num_medalhas = dict(zip(top10, medalhas))\n",
    "num_ouro = dict(zip(top10, ouros))"
   ]
  },
  {
   "cell_type": "code",
   "execution_count": 527,
   "id": "5ff7657f",
   "metadata": {},
   "outputs": [
    {
     "name": "stdout",
     "output_type": "stream",
     "text": [
      "Número Total de Medalhas dos Países do Top 10\n",
      "USA = 5637 Medalhas\n",
      "Russia = 3947 Medalhas\n",
      "Germany = 3756 Medalhas\n",
      "UK = 2067 Medalhas\n",
      "France = 1767 Medalhas\n",
      "Italy = 1637 Medalhas\n",
      "Sweden = 1536 Medalhas\n",
      "Canada = 1352 Medalhas\n",
      "Australia = 1349 Medalhas\n",
      "Hungary = 1135 Medalhas\n",
      "\n",
      "Número de Medalhas de Ouro dos Países do Top 10\n",
      "USA = 2638 Ouros\n",
      "Russia = 1599 Ouros\n",
      "Germany = 1301 Ouros\n",
      "UK = 677 Ouros\n",
      "France = 499 Ouros\n",
      "Italy = 575 Ouros\n",
      "Sweden = 479 Ouros\n",
      "Canada = 463 Ouros\n",
      "Australia = 368 Ouros\n",
      "Hungary = 432 Ouros\n"
     ]
    }
   ],
   "source": [
    "print('Número Total de Medalhas dos Países do Top 10')\n",
    "for pais, num in num_medalhas.items():\n",
    "    print(f'{pais} = {num} Medalhas')\n",
    "\n",
    "print()\n",
    "\n",
    "print('Número de Medalhas de Ouro dos Países do Top 10')\n",
    "for pais, num in num_ouro.items():\n",
    "    print(f'{pais} = {num} Ouros')"
   ]
  },
  {
   "cell_type": "markdown",
   "id": "c3f047d5",
   "metadata": {},
   "source": [
    "**Quantas medalhas tem o Brasil e quantas são de ouro?**"
   ]
  },
  {
   "cell_type": "code",
   "execution_count": 528,
   "id": "b70d2b88",
   "metadata": {},
   "outputs": [
    {
     "data": {
      "text/html": [
       "<div>\n",
       "<style scoped>\n",
       "    .dataframe tbody tr th:only-of-type {\n",
       "        vertical-align: middle;\n",
       "    }\n",
       "\n",
       "    .dataframe tbody tr th {\n",
       "        vertical-align: top;\n",
       "    }\n",
       "\n",
       "    .dataframe thead th {\n",
       "        text-align: right;\n",
       "    }\n",
       "</style>\n",
       "<table border=\"1\" class=\"dataframe\">\n",
       "  <thead>\n",
       "    <tr style=\"text-align: right;\">\n",
       "      <th></th>\n",
       "      <th>index</th>\n",
       "      <th>ano</th>\n",
       "      <th>edicao</th>\n",
       "      <th>cidade_sede</th>\n",
       "      <th>pais</th>\n",
       "      <th>delegacao</th>\n",
       "      <th>equipe</th>\n",
       "      <th>id_atleta</th>\n",
       "      <th>nome_atleta</th>\n",
       "      <th>sexo</th>\n",
       "      <th>idade</th>\n",
       "      <th>altura</th>\n",
       "      <th>peso</th>\n",
       "      <th>esporte</th>\n",
       "      <th>evento</th>\n",
       "      <th>medalha</th>\n",
       "    </tr>\n",
       "  </thead>\n",
       "  <tbody>\n",
       "    <tr>\n",
       "      <th>3647</th>\n",
       "      <td>12959</td>\n",
       "      <td>1920</td>\n",
       "      <td>Summer</td>\n",
       "      <td>Antwerpen</td>\n",
       "      <td>Brazil</td>\n",
       "      <td>BRA</td>\n",
       "      <td>Brazil</td>\n",
       "      <td>7767</td>\n",
       "      <td>Dario Barbosa</td>\n",
       "      <td>M</td>\n",
       "      <td>37.0</td>\n",
       "      <td>178.0</td>\n",
       "      <td>74.0</td>\n",
       "      <td>Shooting</td>\n",
       "      <td>Shooting Men's Free Pistol, 50 metres, Team</td>\n",
       "      <td>Bronze</td>\n",
       "    </tr>\n",
       "    <tr>\n",
       "      <th>3648</th>\n",
       "      <td>12961</td>\n",
       "      <td>1920</td>\n",
       "      <td>Summer</td>\n",
       "      <td>Antwerpen</td>\n",
       "      <td>Brazil</td>\n",
       "      <td>BRA</td>\n",
       "      <td>Brazil</td>\n",
       "      <td>24637</td>\n",
       "      <td>Afrnio Antnio da Costa</td>\n",
       "      <td>M</td>\n",
       "      <td>28.0</td>\n",
       "      <td>178.0</td>\n",
       "      <td>74.0</td>\n",
       "      <td>Shooting</td>\n",
       "      <td>Shooting Men's Free Pistol, 50 metres</td>\n",
       "      <td>Silver</td>\n",
       "    </tr>\n",
       "    <tr>\n",
       "      <th>3649</th>\n",
       "      <td>12962</td>\n",
       "      <td>1920</td>\n",
       "      <td>Summer</td>\n",
       "      <td>Antwerpen</td>\n",
       "      <td>Brazil</td>\n",
       "      <td>BRA</td>\n",
       "      <td>Brazil</td>\n",
       "      <td>24637</td>\n",
       "      <td>Afrnio Antnio da Costa</td>\n",
       "      <td>M</td>\n",
       "      <td>28.0</td>\n",
       "      <td>178.0</td>\n",
       "      <td>74.0</td>\n",
       "      <td>Shooting</td>\n",
       "      <td>Shooting Men's Free Pistol, 50 metres, Team</td>\n",
       "      <td>Bronze</td>\n",
       "    </tr>\n",
       "    <tr>\n",
       "      <th>3650</th>\n",
       "      <td>12975</td>\n",
       "      <td>1920</td>\n",
       "      <td>Summer</td>\n",
       "      <td>Antwerpen</td>\n",
       "      <td>Brazil</td>\n",
       "      <td>BRA</td>\n",
       "      <td>Brazil</td>\n",
       "      <td>91332</td>\n",
       "      <td>Guilherme Paraense</td>\n",
       "      <td>M</td>\n",
       "      <td>35.0</td>\n",
       "      <td>178.0</td>\n",
       "      <td>74.0</td>\n",
       "      <td>Shooting</td>\n",
       "      <td>Shooting Men's Free Pistol, 50 metres, Team</td>\n",
       "      <td>Bronze</td>\n",
       "    </tr>\n",
       "    <tr>\n",
       "      <th>3651</th>\n",
       "      <td>12976</td>\n",
       "      <td>1920</td>\n",
       "      <td>Summer</td>\n",
       "      <td>Antwerpen</td>\n",
       "      <td>Brazil</td>\n",
       "      <td>BRA</td>\n",
       "      <td>Brazil</td>\n",
       "      <td>91332</td>\n",
       "      <td>Guilherme Paraense</td>\n",
       "      <td>M</td>\n",
       "      <td>35.0</td>\n",
       "      <td>178.0</td>\n",
       "      <td>74.0</td>\n",
       "      <td>Shooting</td>\n",
       "      <td>Shooting Men's Military Pistol, 30 metres</td>\n",
       "      <td>Gold</td>\n",
       "    </tr>\n",
       "  </tbody>\n",
       "</table>\n",
       "</div>"
      ],
      "text/plain": [
       "      index   ano  edicao cidade_sede    pais delegacao  equipe  id_atleta  \\\n",
       "3647  12959  1920  Summer   Antwerpen  Brazil       BRA  Brazil       7767   \n",
       "3648  12961  1920  Summer   Antwerpen  Brazil       BRA  Brazil      24637   \n",
       "3649  12962  1920  Summer   Antwerpen  Brazil       BRA  Brazil      24637   \n",
       "3650  12975  1920  Summer   Antwerpen  Brazil       BRA  Brazil      91332   \n",
       "3651  12976  1920  Summer   Antwerpen  Brazil       BRA  Brazil      91332   \n",
       "\n",
       "                 nome_atleta sexo  idade  altura  peso   esporte  \\\n",
       "3647           Dario Barbosa    M   37.0   178.0  74.0  Shooting   \n",
       "3648  Afrnio Antnio da Costa    M   28.0   178.0  74.0  Shooting   \n",
       "3649  Afrnio Antnio da Costa    M   28.0   178.0  74.0  Shooting   \n",
       "3650      Guilherme Paraense    M   35.0   178.0  74.0  Shooting   \n",
       "3651      Guilherme Paraense    M   35.0   178.0  74.0  Shooting   \n",
       "\n",
       "                                           evento medalha  \n",
       "3647  Shooting Men's Free Pistol, 50 metres, Team  Bronze  \n",
       "3648        Shooting Men's Free Pistol, 50 metres  Silver  \n",
       "3649  Shooting Men's Free Pistol, 50 metres, Team  Bronze  \n",
       "3650  Shooting Men's Free Pistol, 50 metres, Team  Bronze  \n",
       "3651    Shooting Men's Military Pistol, 30 metres    Gold  "
      ]
     },
     "execution_count": 528,
     "metadata": {},
     "output_type": "execute_result"
    }
   ],
   "source": [
    "brasil = dados.loc[dados.pais == 'Brazil']\n",
    "brasil = brasil.copy()\n",
    "brasil.head()"
   ]
  },
  {
   "cell_type": "code",
   "execution_count": 529,
   "id": "c0744fae",
   "metadata": {},
   "outputs": [],
   "source": [
    "brasil.loc[:, 'medalha'] = brasil['medalha'].map({'Bronze': 'Bronze', 'Silver': 'Prata', 'Gold': 'Ouro'})"
   ]
  },
  {
   "cell_type": "code",
   "execution_count": 530,
   "id": "cd5e8a00",
   "metadata": {},
   "outputs": [
    {
     "name": "stdout",
     "output_type": "stream",
     "text": [
      "O Brasil tem 475 medalhas no total\n"
     ]
    }
   ],
   "source": [
    "medalhas_br = brasil.medalha\n",
    "print(f'O Brasil tem {medalhas_br.count()} medalhas no total')"
   ]
  },
  {
   "cell_type": "code",
   "execution_count": 531,
   "id": "a7677a9a",
   "metadata": {},
   "outputs": [
    {
     "data": {
      "text/plain": [
       "Bronze    191\n",
       "Prata     175\n",
       "Ouro      109\n",
       "Name: medalha, dtype: int64"
      ]
     },
     "execution_count": 531,
     "metadata": {},
     "output_type": "execute_result"
    }
   ],
   "source": [
    "medalhas_br.value_counts()"
   ]
  },
  {
   "cell_type": "code",
   "execution_count": 532,
   "id": "ae5682e0",
   "metadata": {},
   "outputs": [
    {
     "data": {
      "image/png": "[encoded data removed]",
      "text/plain": [
       "<Figure size 576x432 with 1 Axes>"
      ]
     },
     "metadata": {},
     "output_type": "display_data"
    }
   ],
   "source": [
    "medalhas_br.value_counts().plot(kind='pie', autopct='%1.2f%%', colormap='Accent', figsize=(8,6), explode=[0.02,0.02,0.02])\n",
    "plt.legend(loc='upper left')\n",
    "plt.show()"
   ]
  },
  {
   "cell_type": "markdown",
   "id": "d7695412",
   "metadata": {},
   "source": [
    "**Em qual modalidade o Brasil tem mais atletas medalhistas?**"
   ]
  },
  {
   "cell_type": "code",
   "execution_count": 597,
   "id": "b263818b",
   "metadata": {},
   "outputs": [],
   "source": [
    "medalhas_br = brasil[['evento','medalha']].groupby('evento').count().sort_values(by='medalha', ascending=False).head(10)"
   ]
  },
  {
   "cell_type": "code",
   "execution_count": 603,
   "id": "f7604e41",
   "metadata": {},
   "outputs": [
    {
     "data": {
      "image/png": "[encoded data removed]",
      "text/plain": [
       "<Figure size 1008x432 with 1 Axes>"
      ]
     },
     "metadata": {
      "needs_background": "light"
     },
     "output_type": "display_data"
    }
   ],
   "source": [
    "plt.figure(figsize=(14,6))\n",
    "plt.plot(medalhas_br, marker='o')\n",
    "plt.xticks(rotation=45)\n",
    "plt.show()"
   ]
  },
  {
   "cell_type": "markdown",
   "id": "1e40ce31",
   "metadata": {},
   "source": [
    "**Atletas com mais medalhas de ouro no Brasil**"
   ]
  },
  {
   "cell_type": "code",
   "execution_count": 701,
   "id": "b578d581",
   "metadata": {},
   "outputs": [],
   "source": [
    "br_atletas = list(brasil.loc[brasil.medalha == 'Ouro'].nome_atleta.value_counts().head(13).index)"
   ]
  },
  {
   "cell_type": "code",
   "execution_count": 695,
   "id": "66a42c9d",
   "metadata": {},
   "outputs": [],
   "source": [
    "esporte = []\n",
    "\n",
    "for i in br_atletas:\n",
    "    valor = brasil.loc[brasil.nome_atleta == i].evento.values[0]\n",
    "    esporte.append(valor)"
   ]
  },
  {
   "cell_type": "code",
   "execution_count": 703,
   "id": "aa6ac211",
   "metadata": {},
   "outputs": [
    {
     "data": {
      "text/plain": [
       "{'Maurcio Camargo Lima': \"Volleyball Men's Volleyball\",\n",
       " 'Jaqueline Maria \"Jaque\" Pereira de Carvalho Endres': \"Volleyball Women's Volleyball\",\n",
       " 'Robert Scheidt': 'Sailing Mixed One Person Dinghy',\n",
       " 'Torben Schmidt Grael': 'Sailing Mixed Three Person Keelboat',\n",
       " 'Marcelo Bastos Ferreira': 'Sailing Mixed Two Person Keelboat',\n",
       " 'Fabiana \"Fabi\" Alvim de Oliveira': \"Volleyball Women's Volleyball\",\n",
       " 'Fabiana Marcelino Claudino': \"Volleyball Women's Volleyball\",\n",
       " 'Giovane Farinazzo Gvio': \"Volleyball Men's Volleyball\",\n",
       " 'Srgio \"Escadinha\" Dutra dos Santos': \"Volleyball Men's Volleyball\",\n",
       " 'Thasa Daher de Menezes': \"Volleyball Women's Volleyball\",\n",
       " 'Paula Renata Marques Pequeno': \"Volleyball Women's Volleyball\",\n",
       " 'Adhemar Ferreira da Silva': \"Athletics Men's Triple Jump\",\n",
       " 'Sheilla Tavares de Castro Blassioli': \"Volleyball Women's Volleyball\"}"
      ]
     },
     "execution_count": 703,
     "metadata": {},
     "output_type": "execute_result"
    }
   ],
   "source": [
    "dicionario = dict(zip(br_atletas, esporte))\n",
    "dicionario"
   ]
  }
 ],
 "metadata": {
  "kernelspec": {
   "display_name": "Python 3 (ipykernel)",
   "language": "python",
   "name": "python3"
  },
  "language_info": {
   "codemirror_mode": {
    "name": "ipython",
    "version": 3
   },
   "file_extension": ".py",
   "mimetype": "text/x-python",
   "name": "python",
   "nbconvert_exporter": "python",
   "pygments_lexer": "ipython3",
   "version": "3.9.12"
  }
 },
 "nbformat": 4,
 "nbformat_minor": 5
}
